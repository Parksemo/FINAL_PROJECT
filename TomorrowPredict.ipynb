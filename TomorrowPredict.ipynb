{
 "cells": [
  {
   "cell_type": "markdown",
   "id": "4fd16b5f",
   "metadata": {},
   "source": [
    "# 환경설정"
   ]
  },
  {
   "cell_type": "code",
   "execution_count": 1,
   "id": "17163a17",
   "metadata": {},
   "outputs": [],
   "source": [
    "import pickle\n",
    "import numpy as np\n",
    "import pandas as pd\n",
    "import os\n",
    "import warnings\n",
    "warnings.filterwarnings('ignore')\n",
    "import tensorflow as tf"
   ]
  },
  {
   "cell_type": "code",
   "execution_count": 2,
   "id": "95ce06c0",
   "metadata": {},
   "outputs": [],
   "source": [
    "with open('df_scaled_UTD.pickle','rb') as f:\n",
    "    df_scaled_UTD = pickle.load(f)\n",
    "with open('sector.pickle','rb') as f:\n",
    "    sector = pickle.load(f)"
   ]
  },
  {
   "cell_type": "markdown",
   "id": "536e4834",
   "metadata": {},
   "source": [
    "## 파라미터 지정"
   ]
  },
  {
   "cell_type": "code",
   "execution_count": 3,
   "id": "6cf81bf0",
   "metadata": {},
   "outputs": [],
   "source": [
    "#윈도우 사이즈\n",
    "WINDOW_SIZE = 10\n",
    "# X에 대한 윈도우 함수 설정값\n",
    "X_size = WINDOW_SIZE\n",
    "X_shift = 10\n",
    "X_stride = 1\n",
    "# y에 대한 윈도우 함수 설정값\n",
    "y_size = 1\n",
    "y_shift = WINDOW_SIZE\n",
    "y_stride = 1\n",
    "\n",
    "batch_size = 1"
   ]
  },
  {
   "cell_type": "markdown",
   "id": "2ea8b576",
   "metadata": {},
   "source": [
    "# 2. 모델 불러오기"
   ]
  },
  {
   "cell_type": "code",
   "execution_count": 4,
   "id": "e69db3a8",
   "metadata": {},
   "outputs": [],
   "source": [
    "from tensorflow.keras.models import Sequential\n",
    "from tensorflow.keras.layers import Dense, LSTM, Conv1D, Lambda\n",
    "from tensorflow.keras.losses import Huber\n",
    "from tensorflow.keras.optimizers import Adam\n",
    "from tensorflow.keras.callbacks import EarlyStopping, ModelCheckpoint"
   ]
  },
  {
   "cell_type": "code",
   "execution_count": 5,
   "id": "288ec72b",
   "metadata": {},
   "outputs": [],
   "source": [
    "model_dic ={}\n",
    "for sector_name in sector.keys():\n",
    "    model_dic[sector_name] = Sequential([\n",
    "        # 1차원 feature map 생성\n",
    "        Conv1D(filters=32, kernel_size=5,\n",
    "               padding=\"causal\",\n",
    "               activation=\"relu\",\n",
    "               #feature의 개수 3개\n",
    "               input_shape=[WINDOW_SIZE, 4]),\n",
    "        # LSTM\n",
    "        LSTM(16, activation='tanh'),\n",
    "        Dense(16, activation=\"relu\"),\n",
    "        Dense(1),\n",
    "    ])"
   ]
  },
  {
   "cell_type": "code",
   "execution_count": 6,
   "id": "a2ea393b",
   "metadata": {},
   "outputs": [],
   "source": [
    "with open('filename_dic.pickle', 'rb') as f:\n",
    "    filename_dic = pickle.load(f)"
   ]
  },
  {
   "cell_type": "code",
   "execution_count": 7,
   "id": "58223dc1",
   "metadata": {},
   "outputs": [
    {
     "data": {
      "text/plain": [
       "{'Food': 'Models\\\\Foodckeckpointer.ckpt',\n",
       " 'Clothing': 'Models\\\\Clothingckeckpointer.ckpt',\n",
       " 'Chemical': 'Models\\\\Chemicalckeckpointer.ckpt',\n",
       " 'Medicine': 'Models\\\\Medicineckeckpointer.ckpt',\n",
       " 'Non_Metal': 'Models\\\\Non_Metalckeckpointer.ckpt',\n",
       " 'Metal': 'Models\\\\Metalckeckpointer.ckpt',\n",
       " 'Machine': 'Models\\\\Machineckeckpointer.ckpt',\n",
       " 'Electronic': 'Models\\\\Electronicckeckpointer.ckpt',\n",
       " 'Construction': 'Models\\\\Constructionckeckpointer.ckpt',\n",
       " 'Transport': 'Models\\\\Transportckeckpointer.ckpt',\n",
       " 'Distribution': 'Models\\\\Distributionckeckpointer.ckpt',\n",
       " 'Power': 'Models\\\\Powerckeckpointer.ckpt',\n",
       " 'Tele': 'Models\\\\Teleckeckpointer.ckpt',\n",
       " 'Finance': 'Models\\\\Financeckeckpointer.ckpt',\n",
       " 'Brokerage': 'Models\\\\Brokerageckeckpointer.ckpt',\n",
       " 'Insurer': 'Models\\\\Insurerckeckpointer.ckpt',\n",
       " 'Service': 'Models\\\\Serviceckeckpointer.ckpt',\n",
       " 'Manufacturer': 'Models\\\\Manufacturerckeckpointer.ckpt'}"
      ]
     },
     "execution_count": 7,
     "metadata": {},
     "output_type": "execute_result"
    }
   ],
   "source": [
    "filename_dic"
   ]
  },
  {
   "cell_type": "code",
   "execution_count": 8,
   "id": "563939d2",
   "metadata": {},
   "outputs": [],
   "source": [
    "for_linux = {}\n",
    "for sector_name in filename_dic:\n",
    "    for_linux[sector_name] = filename_dic[sector_name][7:]"
   ]
  },
  {
   "cell_type": "code",
   "execution_count": 9,
   "id": "e3adc722",
   "metadata": {},
   "outputs": [
    {
     "data": {
      "text/plain": [
       "{'Food': 'Foodckeckpointer.ckpt',\n",
       " 'Clothing': 'Clothingckeckpointer.ckpt',\n",
       " 'Chemical': 'Chemicalckeckpointer.ckpt',\n",
       " 'Medicine': 'Medicineckeckpointer.ckpt',\n",
       " 'Non_Metal': 'Non_Metalckeckpointer.ckpt',\n",
       " 'Metal': 'Metalckeckpointer.ckpt',\n",
       " 'Machine': 'Machineckeckpointer.ckpt',\n",
       " 'Electronic': 'Electronicckeckpointer.ckpt',\n",
       " 'Construction': 'Constructionckeckpointer.ckpt',\n",
       " 'Transport': 'Transportckeckpointer.ckpt',\n",
       " 'Distribution': 'Distributionckeckpointer.ckpt',\n",
       " 'Power': 'Powerckeckpointer.ckpt',\n",
       " 'Tele': 'Teleckeckpointer.ckpt',\n",
       " 'Finance': 'Financeckeckpointer.ckpt',\n",
       " 'Brokerage': 'Brokerageckeckpointer.ckpt',\n",
       " 'Insurer': 'Insurerckeckpointer.ckpt',\n",
       " 'Service': 'Serviceckeckpointer.ckpt',\n",
       " 'Manufacturer': 'Manufacturerckeckpointer.ckpt'}"
      ]
     },
     "execution_count": 9,
     "metadata": {},
     "output_type": "execute_result"
    }
   ],
   "source": [
    "for_linux"
   ]
  },
  {
   "cell_type": "code",
   "execution_count": 10,
   "id": "cf57ea35",
   "metadata": {},
   "outputs": [],
   "source": [
    "for sector_name in filename_dic:\n",
    "    model_dic[sector_name].load_weights('Models/'+for_linux[sector_name])"
   ]
  },
  {
   "cell_type": "code",
   "execution_count": 11,
   "id": "baf40603",
   "metadata": {},
   "outputs": [],
   "source": [
    "for sector_name, df in df_scaled_UTD.items():\n",
    "    df_scaled_UTD[sector_name] = df.drop('종가',1)\n"
   ]
  },
  {
   "cell_type": "markdown",
   "id": "d705aa14",
   "metadata": {},
   "source": [
    "# tomorrow 업종 상향 / 하향 예측하기\n",
    "## 내일 종가 예측값  - 어제부터 10일 전 예측 종가 평균 "
   ]
  },
  {
   "cell_type": "code",
   "execution_count": 12,
   "id": "f9900f3c",
   "metadata": {},
   "outputs": [
    {
     "data": {
      "text/plain": [
       "'220812'"
      ]
     },
     "execution_count": 12,
     "metadata": {},
     "output_type": "execute_result"
    }
   ],
   "source": [
    "\n",
    "from datetime import date,datetime, timedelta\n",
    "today = date.today()\n",
    "tomorrow = today+timedelta(days=1, hours = 9)\n",
    "tomorrow = tomorrow.isoformat()\n",
    "tomorrow = tomorrow.replace('-','')[2:]\n",
    "set_d = tomorrow\n",
    "set_d\n",
    "\n"
   ]
  },
  {
   "cell_type": "code",
   "execution_count": 13,
   "id": "0fe725c1",
   "metadata": {},
   "outputs": [],
   "source": [
    "#kr_name_list\n",
    "sector_name_list = ['음식료품', '섬유의복', '화학','의약품','비금속광물','철강금속','기계','전기전자','건설업','운수창고','유통업','전기가스업','통신업', '금융업','증권','보험', '서비스업','제조업']\n",
    "sector_name_mapping = {}\n",
    "count = 0\n",
    "for i, sector_name in enumerate(sector):\n",
    "    sector_name_mapping[sector_name] = sector_name_list[i]\n",
    "    count+=1\n"
   ]
  },
  {
   "cell_type": "code",
   "execution_count": 14,
   "id": "8334bacb",
   "metadata": {
    "scrolled": true
   },
   "outputs": [
    {
     "name": "stdout",
     "output_type": "stream",
     "text": [
      "음식료품은 하향을 예상합니다.\n",
      "섬유의복은 하향을 예상합니다.\n",
      "화학은 하향을 예상합니다.\n",
      "의약품은 하향을 예상합니다.\n",
      "비금속광물은 하향을 예상합니다.\n",
      "철강금속은 하향을 예상합니다.\n",
      "기계은 하향을 예상합니다.\n",
      "전기전자은 하향을 예상합니다.\n",
      "건설업은 하향을 예상합니다.\n",
      "운수창고은 하향을 예상합니다.\n",
      "유통업은 하향을 예상합니다.\n",
      "전기가스업은 하향을 예상합니다.\n",
      "통신업은 하향을 예상합니다.\n",
      "금융업은 하향을 예상합니다.\n",
      "증권은 하향을 예상합니다.\n",
      "보험은 하향을 예상합니다.\n",
      "서비스업은 하향을 예상합니다.\n",
      "제조업은 하향을 예상합니다.\n"
     ]
    }
   ],
   "source": [
    "pred_dic = {}\n",
    "for sector_name, model in model_dic.items():\n",
    "    pred_l = []\n",
    "    for i in range(11):\n",
    "        data = tf.constant(np.expand_dims(np.array(df_scaled_UTD[sector_name].tail(10+i)[:10]),axis=0))\n",
    "        pred_l.append(float(model.predict(data)))\n",
    "    pre = sum(pred_l[1:])/5\n",
    "    if pred_l[0]>pre:\n",
    "        s = sector_name_mapping[sector_name] + '은 상향을 예상합니다.'\n",
    "        print(s)\n",
    "        pred_dic[sector_name] = s\n",
    "    elif pred_l[0]<pre:\n",
    "        s = sector_name_mapping[sector_name] + '은 하향을 예상합니다.'\n",
    "        print(s)\n",
    "        pred_dic[sector_name] = s\n",
    "    elif pred_l[0] == pre:\n",
    "        s= sector_name_mapping[sector_name]+'은 횡보를 예상합니다.'\n",
    "        print(s)\n",
    "        pred_dic[sector_name] = s\n"
   ]
  },
  {
   "cell_type": "code",
   "execution_count": 15,
   "id": "389c905f",
   "metadata": {},
   "outputs": [],
   "source": [
    "with open(f'{set_d}pred_dic.pickle','wb') as f:\n",
    "    pickle.dump(pred_dic,f)"
   ]
  },
  {
   "cell_type": "code",
   "execution_count": null,
   "id": "76c42fe9",
   "metadata": {},
   "outputs": [],
   "source": []
  }
 ],
 "metadata": {
  "kernelspec": {
   "display_name": "Python 3 (ipykernel)",
   "language": "python",
   "name": "python3"
  },
  "language_info": {
   "codemirror_mode": {
    "name": "ipython",
    "version": 3
   },
   "file_extension": ".py",
   "mimetype": "text/x-python",
   "name": "python",
   "nbconvert_exporter": "python",
   "pygments_lexer": "ipython3",
   "version": "3.7.13"
  }
 },
 "nbformat": 4,
 "nbformat_minor": 5
}
